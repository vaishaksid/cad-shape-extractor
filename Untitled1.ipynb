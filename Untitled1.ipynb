{
 "cells": [
  {
   "cell_type": "code",
   "execution_count": 1,
   "id": "db43eaeb-5fcd-489d-beca-3e6b428ee6b8",
   "metadata": {},
   "outputs": [
    {
     "name": "stdout",
     "output_type": "stream",
     "text": [
      "Overwriting auto display for cadquery Workplane and Shape\n",
      "C:\\Users\\Vaishak\\cad-model\\.venv.local\\Scripts\\python.exe\n",
      "cq: 2.5.2\n",
      "jcq: 4.0.2\n",
      "+\n"
     ]
    },
    {
     "data": {
      "application/vnd.jupyter.widget-view+json": {
       "model_id": "5aa93a7b4d5d497db49b2c72d5fc65ad",
       "version_major": 2,
       "version_minor": 0
      },
      "text/plain": [
       "CadViewerWidget(anchor=None, aspect_ratio=0.75, cad_width=800, control='trackball', glass=True, height=600, id…"
      ]
     },
     "metadata": {},
     "output_type": "display_data"
    },
    {
     "data": {
      "text/html": [
       "<div></div>"
      ],
      "text/plain": [
       "<IPython.core.display.HTML object>"
      ]
     },
     "metadata": {},
     "output_type": "display_data"
    },
    {
     "data": {
      "text/plain": [
       "<cad_viewer_widget.widget.CadViewer at 0x17b1afc7430>"
      ]
     },
     "execution_count": 1,
     "metadata": {},
     "output_type": "execute_result"
    }
   ],
   "source": [
    "import sys, cadquery, jupyter_cadquery\n",
    "print(sys.executable)\n",
    "print(\"cq:\", cadquery.__version__)\n",
    "print(\"jcq:\", jupyter_cadquery.__version__)\n",
    "\n",
    "from jupyter_cadquery import show\n",
    "import cadquery as cq\n",
    "show(cq.Workplane(\"XY\").box(2,2,2))\n"
   ]
  },
  {
   "cell_type": "code",
   "execution_count": 2,
   "id": "14cd69df-75bd-4987-953d-5bdc43d97b2f",
   "metadata": {},
   "outputs": [],
   "source": [
    "import cadquery as cq\n",
    "\n",
    "def get_bounding_box(obj):\n",
    "    bb = obj.val().BoundingBox()\n",
    "    return {\n",
    "        \"x\": round(bb.xlen, 3),\n",
    "        \"y\": round(bb.ylen, 3),\n",
    "        \"z\": round(bb.zlen, 3)\n",
    "    }\n",
    "\n",
    "def get_edge_lengths(obj):\n",
    "    edges = obj.edges().vals()\n",
    "    return sorted([round(e.Length(), 3) for e in edges])\n",
    "\n",
    "def get_circular_hole_diameters(obj):\n",
    "    holes = []\n",
    "    for edge in obj.edges().vals():\n",
    "        if edge.isCircle():\n",
    "            radius = edge.radius()\n",
    "            holes.append(round(2 * radius, 3))\n",
    "    return sorted(holes)\n",
    "\n",
    "def describe(obj):\n",
    "    return {\n",
    "        \"bounding_box\": get_bounding_box(obj),\n",
    "        \"edge_lengths\": get_edge_lengths(obj),\n",
    "        \"circular_holes\": get_circular_hole_diameters(obj)\n",
    "    }\n"
   ]
  },
  {
   "cell_type": "code",
   "execution_count": null,
   "id": "b63c25a7-e0c1-49ef-b060-a71103fbe2c3",
   "metadata": {},
   "outputs": [],
   "source": []
  }
 ],
 "metadata": {
  "kernelspec": {
   "display_name": "Python 3 (ipykernel)",
   "language": "python",
   "name": "python3"
  },
  "language_info": {
   "codemirror_mode": {
    "name": "ipython",
    "version": 3
   },
   "file_extension": ".py",
   "mimetype": "text/x-python",
   "name": "python",
   "nbconvert_exporter": "python",
   "pygments_lexer": "ipython3",
   "version": "3.10.11"
  }
 },
 "nbformat": 4,
 "nbformat_minor": 5
}
